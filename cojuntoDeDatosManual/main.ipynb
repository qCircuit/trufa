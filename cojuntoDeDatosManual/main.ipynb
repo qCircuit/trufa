{
 "cells": [
  {
   "cell_type": "code",
   "execution_count": 393,
   "metadata": {},
   "outputs": [],
   "source": [
    "import category_encoders\n",
    "import datetime\n",
    "import json\n",
    "import os\n",
    "import pickle\n",
    "import time\n",
    "import numpy as np\n",
    "import pandas as pd\n",
    "import seaborn as sns\n",
    "\n",
    "import torch\n",
    "\n",
    "from sklearn import preprocessing\n",
    "from sklearn.model_selection import train_test_split\n",
    "from sklearn.pipeline import Pipeline\n",
    "\n",
    "from scipy.spatial.distance import jensenshannon\n",
    "from sklearn.metrics import log_loss\n",
    "\n",
    "import mysql.connector as mysql\n",
    "from clickhouse_driver import Client\n",
    "\n",
    "import warnings\n",
    "warnings.simplefilter(action=\"ignore\", category=FutureWarning)\n",
    "\n",
    "def configura():\n",
    "    return None"
   ]
  },
  {
   "cell_type": "code",
   "execution_count": 314,
   "metadata": {},
   "outputs": [
    {
     "name": "stdout",
     "output_type": "stream",
     "text": [
      "banner.csv\n"
     ]
    }
   ],
   "source": [
    "!ls cojuntoDeDatosManual"
   ]
  },
  {
   "cell_type": "code",
   "execution_count": 406,
   "metadata": {},
   "outputs": [
    {
     "name": "stderr",
     "output_type": "stream",
     "text": [
      "/tmp/ipykernel_4062036/3949202829.py:1: DtypeWarning: Columns (3,20,21,22,23,24,25,26,31,34,36,38,40,43,44,45,46,48,52) have mixed types. Specify dtype option on import or set low_memory=False.\n",
      "  df = pd.read_csv(\"cojuntoDeDatosManual/2.csv\")\n"
     ]
    },
    {
     "name": "stdout",
     "output_type": "stream",
     "text": [
      "<class 'pandas.core.frame.DataFrame'>\n",
      "RangeIndex: 158430 entries, 0 to 158429\n",
      "Data columns (total 62 columns):\n",
      " #   Column               Non-Null Count   Dtype  \n",
      "---  ------               --------------   -----  \n",
      " 0   id                   158430 non-null  float64\n",
      " 1   created_ts           158430 non-null  object \n",
      " 2   device_devicetype    158419 non-null  float64\n",
      " 3   device_geo_city      9429 non-null    object \n",
      " 4   device_geo_country   158419 non-null  object \n",
      " 5   device_geo_region    9537 non-null    float64\n",
      " 6   device_geo_type      10034 non-null   float64\n",
      " 7   device_geo_zip       9385 non-null    float64\n",
      " 8   device_h             0 non-null       float64\n",
      " 9   device_ip            158417 non-null  object \n",
      " 10  device_js            2039 non-null    float64\n",
      " 11  device_language      71189 non-null   object \n",
      " 12  device_make          158419 non-null  object \n",
      " 13  device_model         158346 non-null  object \n",
      " 14  device_os            158419 non-null  object \n",
      " 15  device_osv           158033 non-null  object \n",
      " 16  device_pxratio       10034 non-null   float64\n",
      " 17  device_ua            158419 non-null  object \n",
      " 18  device_w             4027 non-null    object \n",
      " 19  imp_banner_h         158082 non-null  object \n",
      " 20  imp_banner_hmax      3738 non-null    object \n",
      " 21  imp_banner_hmin      290 non-null     object \n",
      " 22  imp_banner_pos       8126 non-null    object \n",
      " 23  imp_banner_w         154393 non-null  object \n",
      " 24  imp_banner_wmax      341 non-null     object \n",
      " 25  imp_banner_wmin      322 non-null     object \n",
      " 26  imp_bidfloor         157779 non-null  object \n",
      " 27  imp_tagid            154730 non-null  object \n",
      " 28  site_cat             140403 non-null  object \n",
      " 29  site_content_cat     35220 non-null   object \n",
      " 30  site_domain          158202 non-null  object \n",
      " 31  site_ext             12936 non-null   object \n",
      " 32  site_id              155672 non-null  object \n",
      " 33  site_page            158205 non-null  object \n",
      " 34  site_pagecat         1279 non-null    object \n",
      " 35  site_publisher_id    158080 non-null  object \n",
      " 36  site_ref             3754 non-null    object \n",
      " 37  site_traffic_type    154680 non-null  object \n",
      " 38  ssp_id               158138 non-null  object \n",
      " 39  imp_banner_ext       629 non-null     object \n",
      " 40  user_data_ext        3691 non-null    object \n",
      " 41  seatbid_bid_cid      157801 non-null  float64\n",
      " 42  seatbid_bid_crid     154738 non-null  float64\n",
      " 43  is_view              155029 non-null  object \n",
      " 44  showcase_id          158429 non-null  object \n",
      " 45  template_id          158418 non-null  object \n",
      " 46  count_template_slot  158418 non-null  object \n",
      " 47  is_click             4172 non-null    float64\n",
      " 48  Unnamed: 48          3692 non-null    object \n",
      " 49  Unnamed: 49          3400 non-null    float64\n",
      " 50  Unnamed: 50          2 non-null       float64\n",
      " 51  Unnamed: 51          0 non-null       float64\n",
      " 52  Unnamed: 52          1 non-null       object \n",
      " 53  Unnamed: 53          1 non-null       float64\n",
      " 54  Unnamed: 54          0 non-null       float64\n",
      " 55  Unnamed: 55          0 non-null       float64\n",
      " 56  Unnamed: 56          1 non-null       float64\n",
      " 57  Unnamed: 57          1 non-null       float64\n",
      " 58  Unnamed: 58          1 non-null       float64\n",
      " 59  Unnamed: 59          1 non-null       float64\n",
      " 60  Unnamed: 60          1 non-null       float64\n",
      " 61  Unnamed: 61          1 non-null       float64\n",
      "dtypes: float64(23), object(39)\n",
      "memory usage: 74.9+ MB\n"
     ]
    }
   ],
   "source": [
    "df = pd.read_csv(\"cojuntoDeDatosManual/2.csv\")\n",
    "df.info()"
   ]
  },
  {
   "cell_type": "code",
   "execution_count": 407,
   "metadata": {},
   "outputs": [],
   "source": [
    "# get chrono\n",
    "df = df.sort_values(by=\"created_ts\").reset_index(drop=True)"
   ]
  },
  {
   "cell_type": "code",
   "execution_count": 409,
   "metadata": {},
   "outputs": [
    {
     "data": {
      "text/plain": [
       "android       102422\n",
       "windows nt     31083\n",
       "windows        19780\n",
       "ios             2810\n",
       "linux            798\n",
       "mac os           730\n",
       "mac os x         546\n",
       "ubuntu           135\n",
       "macosx            54\n",
       "harmonyos         18\n",
       "tizen             16\n",
       "osx               12\n",
       "fedora             8\n",
       "chrome os          3\n",
       "freebsd            2\n",
       "unknown            2\n",
       "Name: device_os, dtype: int64"
      ]
     },
     "execution_count": 409,
     "metadata": {},
     "output_type": "execute_result"
    }
   ],
   "source": [
    "df.device_os.value_counts()"
   ]
  },
  {
   "cell_type": "code",
   "execution_count": 396,
   "metadata": {},
   "outputs": [],
   "source": [
    "def get_weekday(v):  # day of a week matching\n",
    "    if type(v) == pd._libs.tslibs.timestamps.Timestamp:\n",
    "        return v.weekday()\n",
    "    if type(v) == str:\n",
    "        return datetime.datetime.strptime(v, '%Y-%m-%d %H:%M:%S').weekday()\n",
    "    else:\n",
    "        # utilities.logger.error(\"Unknown type date\")\n",
    "        print(\"Unknown type date\")\n",
    "\n",
    "\n",
    "def get_hour(v):  # by-hour periods matching\n",
    "    if type(v) == pd._libs.tslibs.timestamps.Timestamp:\n",
    "        return v.hour\n",
    "    if type(v) == str:\n",
    "        return datetime.datetime.strptime(v, '%Y-%m-%d %H:%M:%S').hour\n",
    "    else:\n",
    "        # utilities.logger.error(\"Unknown type date\")\n",
    "        print(\"Unknown type date\")\n",
    "\n",
    "df[\"weekday\"] = df.created_ts.apply(lambda v: get_weekday(v))\n",
    "df[\"hour\"] = df.created_ts.apply(lambda v: get_hour(v))"
   ]
  },
  {
   "cell_type": "code",
   "execution_count": 369,
   "metadata": {},
   "outputs": [
    {
     "name": "stdout",
     "output_type": "stream",
     "text": [
      "29\n"
     ]
    },
    {
     "data": {
      "text/plain": [
       "['id',\n",
       " 'created_ts',\n",
       " 'device_devicetype',\n",
       " 'device_geo_country',\n",
       " 'device_ip',\n",
       " 'device_make',\n",
       " 'device_model',\n",
       " 'device_os',\n",
       " 'device_osv',\n",
       " 'device_ua',\n",
       " 'imp_banner_h',\n",
       " 'imp_banner_w',\n",
       " 'imp_bidfloor',\n",
       " 'imp_tagid',\n",
       " 'site_cat',\n",
       " 'site_domain',\n",
       " 'site_id',\n",
       " 'site_page',\n",
       " 'site_publisher_id',\n",
       " 'site_traffic_type',\n",
       " 'ssp_id',\n",
       " 'seatbid_bid_cid',\n",
       " 'seatbid_bid_crid',\n",
       " 'is_view',\n",
       " 'showcase_id',\n",
       " 'template_id',\n",
       " 'count_template_slot',\n",
       " 'weekday',\n",
       " 'hour']"
      ]
     },
     "execution_count": 369,
     "metadata": {},
     "output_type": "execute_result"
    }
   ],
   "source": [
    "non_empty = [feat for feat in df if df[feat].isna().sum()/len(df) < 0.3]\n",
    "print(len(non_empty))\n",
    "non_empty"
   ]
  },
  {
   "cell_type": "code",
   "execution_count": 370,
   "metadata": {},
   "outputs": [
    {
     "data": {
      "text/plain": [
       "['id',\n",
       " 'created_ts',\n",
       " 'device_devicetype',\n",
       " 'device_ip',\n",
       " 'device_make',\n",
       " 'device_model',\n",
       " 'device_os',\n",
       " 'device_osv',\n",
       " 'device_ua',\n",
       " 'imp_banner_h',\n",
       " 'imp_banner_w',\n",
       " 'imp_bidfloor',\n",
       " 'imp_tagid',\n",
       " 'site_cat',\n",
       " 'site_domain',\n",
       " 'site_id',\n",
       " 'site_page',\n",
       " 'site_publisher_id',\n",
       " 'site_traffic_type',\n",
       " 'ssp_id',\n",
       " 'seatbid_bid_cid',\n",
       " 'seatbid_bid_crid',\n",
       " 'is_view',\n",
       " 'showcase_id',\n",
       " 'template_id',\n",
       " 'count_template_slot',\n",
       " 'weekday',\n",
       " 'hour']"
      ]
     },
     "execution_count": 370,
     "metadata": {},
     "output_type": "execute_result"
    }
   ],
   "source": [
    "non_singles = [feat for feat in non_empty if df[feat].nunique() > 1]\n",
    "non_singles"
   ]
  },
  {
   "cell_type": "code",
   "execution_count": 397,
   "metadata": {},
   "outputs": [],
   "source": [
    "configura.features = {\n",
    "    'device_devicetype': \"object\",\n",
    "    'device_make': \"object\",\n",
    "    'device_model': \"object\",\n",
    "    'device_os': \"object\",\n",
    "    'device_osv': \"object\",\n",
    "    'imp_tagid': \"object\",\n",
    "    'site_domain': \"object\",\n",
    "    'site_id': \"object\",\n",
    "    'site_publisher_id': \"object\",\n",
    "    'site_traffic_type': \"object\",\n",
    "    \"ssp_id\": \"object\",\n",
    "    'seatbid_bid_crid': \"object\",\n",
    "    'template_id': \"object\",\n",
    "    'count_template_slot': \"object\",\n",
    "    \"hour\": \"object\"\n",
    "}\n",
    "\n",
    "configura.target = {\"is_click\": \"bool\"}"
   ]
  },
  {
   "cell_type": "code",
   "execution_count": 398,
   "metadata": {},
   "outputs": [
    {
     "name": "stdout",
     "output_type": "stream",
     "text": [
      "(138773, 64)\n"
     ]
    }
   ],
   "source": [
    "# drop incorrect records\n",
    "df = df[df.is_view == 1].reset_index(drop=True)\n",
    "print(df.shape)"
   ]
  },
  {
   "cell_type": "code",
   "execution_count": 295,
   "metadata": {},
   "outputs": [],
   "source": [
    "# n = 14\n",
    "# f = [x for x in configura.features][n]\n",
    "# print(f)\n",
    "# print(f\"{df[f].isna().sum()/len(df) :.5f}\")\n",
    "# df[f].value_counts()\n"
   ]
  },
  {
   "cell_type": "code",
   "execution_count": 399,
   "metadata": {},
   "outputs": [],
   "source": [
    "# rare items -> other category\n",
    "objects = [k for k,v in configura.features.items() if v == \"object\"]\n",
    "\n",
    "for f in objects:\n",
    "    feature_counts = df[f].value_counts()\n",
    "    not_sufficient = list(feature_counts[feature_counts < 50].keys())\n",
    "    df.loc[df[f].isin(not_sufficient), f] = \"other\""
   ]
  },
  {
   "cell_type": "code",
   "execution_count": 400,
   "metadata": {},
   "outputs": [
    {
     "name": "stdout",
     "output_type": "stream",
     "text": [
      "preshape: (138773, 64)\n",
      "post processing started...\n",
      "post processing completed, time : 1s, shape: (138773, 16)\n",
      "...post processing target counts:\n",
      "is_click\n",
      "0           138647\n",
      "1              126\n",
      "dtype: int64\n",
      "posthape: (138773, 16)\n"
     ]
    }
   ],
   "source": [
    "def objects_processing(v):\n",
    "    '''check if float in an object feature -> cut fraction'''\n",
    "    try:\n",
    "        v = str(int(float(v)))\n",
    "    except ValueError:\n",
    "        v = str(v)\n",
    "\n",
    "    return v.lower()\n",
    "\n",
    "def post_process(df):\n",
    "    start_time = time.time()\n",
    "    print(f\"preshape: {df.shape}\")\n",
    "    # utilities.logger.info(\"post processing started...\")\n",
    "    print(\"post processing started...\")\n",
    "\n",
    "    df = df[list(configura.features.keys()) + list(configura.target.keys())]\n",
    "    \n",
    "    obj_cols = [k for k, v in configura.features.items() if v==\"object\"]\n",
    "    int_cols = [k for k, v in configura.features.items() if \"int\" in v]\n",
    "    float_cols = [k for k, v in configura.features.items() if \"float\" in v]\n",
    "    bool_cols = [k for k, v in configura.features.items() if v==\"bool\"]\n",
    "    bool_cols += [k for k, v in configura.target.items() if v==\"bool\"] #TODO\n",
    "\n",
    "    df_trans = df.copy()\n",
    "    df_trans[obj_cols] = df[obj_cols].fillna(\"-1\")\n",
    "    df_trans[int_cols+float_cols] = df[int_cols+float_cols].fillna(-1)\n",
    "    df_trans[bool_cols] = df[bool_cols].fillna(0)\n",
    "    \n",
    "    for f in obj_cols:\n",
    "        df_trans[f] = df_trans[f].apply(objects_processing)\n",
    "    df_trans[int_cols+bool_cols] = df_trans[int_cols+bool_cols].astype(int)\n",
    "    df_trans[float_cols] = df_trans[float_cols].astype(float)\n",
    "\n",
    "    # utilities.logger.info(\n",
    "    #     f\"post processing completed, time : {int(time.time() - start_time)}s, shape: {df.shape}\"\n",
    "    # )\n",
    "    # utilities.logger.info(f\"...post processing target counts: {df[config.features_dict['target'].keys()].value_counts()}\")\n",
    "    print(\n",
    "        f\"post processing completed, time : {int(time.time() - start_time)}s, shape: {df.shape}\"\n",
    "    )\n",
    "    print(f\"...post processing target counts:\\n{df_trans[configura.target.keys()].value_counts()}\")\n",
    "    print(f\"posthape: {df_trans.shape}\")\n",
    "\n",
    "    return df_trans\n",
    "\n",
    "df = post_process(df)"
   ]
  },
  {
   "cell_type": "code",
   "execution_count": 401,
   "metadata": {},
   "outputs": [],
   "source": [
    "def fit_encoder(df, encoder_type=\"target\"):\n",
    "    object_columns = [k for k,v in configura.features.items() if v==\"object\"]\n",
    "    if encoder_type == \"target\":\n",
    "        encoder = category_encoders.target_encoder.TargetEncoder(return_df=False)\n",
    "    elif encoder_type == \"catboost\":\n",
    "        encoder = category_encoders.cat_boost.CatBoostEncoder(return_df=False)\n",
    "    elif encoder_type == \"woe\":\n",
    "        encoder = category_encoders.woe.WOEEncoder(return_df=False)    \n",
    "    encoder.fit(\n",
    "        df[object_columns].copy().values,\n",
    "        df[configura.target.keys()].copy().values\n",
    "    )\n",
    "\n",
    "    return encoder\n",
    "\n",
    "def encode_objects(df, encoder):\n",
    "\n",
    "    df[[k for k,v in configura.features.items() if v==\"object\"]] = encoder.transform(\n",
    "        df[[k for k,v in configura.features.items() if v==\"object\"]].copy().values\n",
    "    )\n",
    "\n",
    "\n",
    "    return df\n",
    "\n",
    "def fit_scaler(df, scaler_type=\"standard\"):\n",
    "    if scaler_type == \"standard\":\n",
    "        scaler = preprocessing.StandardScaler()\n",
    "    if scaler_type == \"minmax\":\n",
    "        scaler = preprocessing.MultiLabelBinarizer()\n",
    "    if scaler_type == \"maxabs\":\n",
    "        scaler = preprocessing.MaxAbsScaler()\n",
    "    scaler.fit(df.drop(configura.target.keys(), axis=1))\n",
    "\n",
    "    # pickle.dump(scaler, open(config.scaler_path, 'wb'))\n",
    "\n",
    "    return scaler\n",
    "\n",
    "def scale_data(df, scaler):\n",
    "\n",
    "    df = pd.concat([\n",
    "        pd.DataFrame(\n",
    "            scaler.transform(df.drop(configura.target.keys(), axis=1)),\n",
    "                columns = df.drop(configura.target.keys(), axis=1).columns\n",
    "            ).reset_index(drop=True),\n",
    "            df[configura.target.keys()].reset_index(drop=True)], axis=1)\n",
    "\n",
    "\n",
    "    return df \n",
    "\n",
    "encoder = fit_encoder(df)\n",
    "df = encode_objects(df, encoder)\n",
    "\n",
    "scaler = fit_scaler(df)\n",
    "df = scale_data(df, scaler)"
   ]
  },
  {
   "cell_type": "code",
   "execution_count": 402,
   "metadata": {},
   "outputs": [
    {
     "name": "stdout",
     "output_type": "stream",
     "text": [
      "(111018, 16) (27755, 16)\n",
      "0    110928\n",
      "1        90\n",
      "Name: is_click, dtype: int64\n",
      "0    27719\n",
      "1       36\n",
      "Name: is_click, dtype: int64\n"
     ]
    }
   ],
   "source": [
    "dftr = df.iloc[:int(len(df)*0.8), :]\n",
    "dfts = df.iloc[int(len(df)*0.8):, :]\n",
    "print(dftr.shape, dfts.shape)\n",
    "print(dftr.is_click.value_counts())\n",
    "print(dfts.is_click.value_counts())"
   ]
  },
  {
   "cell_type": "code",
   "execution_count": 403,
   "metadata": {},
   "outputs": [
    {
     "name": "stdout",
     "output_type": "stream",
     "text": [
      "Epoch 001/008: | Loss: 0.06651 | Acc: 97.925| Valid_Loss: 0.00001 | Valid_Acc: 0.461 | Time: 40.1\n",
      "Epoch 002/008: | Loss: 0.00686 | Acc: 99.896| Valid_Loss: 0.00000 | Valid_Acc: 0.461 | Time: 40.3\n",
      "Epoch 003/008: | Loss: 0.00654 | Acc: 99.896| Valid_Loss: 0.00000 | Valid_Acc: 0.461 | Time: 40.4\n",
      "Epoch 004/008: | Loss: 0.00662 | Acc: 99.898| Valid_Loss: 0.00000 | Valid_Acc: 0.461 | Time: 40.4\n",
      "Epoch 005/008: | Loss: 0.00625 | Acc: 99.896| Valid_Loss: 0.00000 | Valid_Acc: 0.461 | Time: 40.2\n",
      "Epoch 006/008: | Loss: 0.00622 | Acc: 99.896| Valid_Loss: 0.00000 | Valid_Acc: 0.461 | Time: 40.7\n",
      "Epoch 007/008: | Loss: 0.00617 | Acc: 99.899| Valid_Loss: 0.00000 | Valid_Acc: 0.461 | Time: 40.4\n",
      "Epoch 008/008: | Loss: 0.00612 | Acc: 99.897| Valid_Loss: 0.00000 | Valid_Acc: 0.461 | Time: 40.1\n",
      "model fit completed\n"
     ]
    },
    {
     "data": {
      "image/png": "[encoded data removed]",
      "text/plain": [
       "<Figure size 936x648 with 1 Axes>"
      ]
     },
     "metadata": {},
     "output_type": "display_data"
    }
   ],
   "source": [
    "configura.batch_size = 64\n",
    "configura.epochs = 8\n",
    "configura.learning_rate = 0.001\n",
    "configura.test_params = [1000, 5, 0.1]\n",
    "\n",
    "device = torch.device('cuda' if torch.cuda.is_available() else 'cpu')\n",
    "\n",
    "class MyDataset(torch.utils.data.Dataset):   \n",
    "    def __init__(self, x, y):\n",
    "        self.x = x\n",
    "        self.y = y\n",
    "        \n",
    "    def __getitem__(self, index):\n",
    "        return self.x[index], self.y[index]\n",
    "    \n",
    "    def __len__(self):\n",
    "        return len(self.x)\n",
    "\n",
    "def get_loader(df, shuffle_bool=False):\n",
    "    data = MyDataset(\n",
    "        torch.FloatTensor(df.drop(configura.target.keys(), axis=1).to_numpy()),\n",
    "        torch.FloatTensor(df[configura.target.keys()].to_numpy()),\n",
    "    )\n",
    "    loader = torch.utils.data.DataLoader(\n",
    "        dataset=data, batch_size=configura.batch_size, shuffle=shuffle_bool\n",
    "    )\n",
    "\n",
    "    return loader\n",
    "\n",
    "def binary_acc(y_pred: np.array, y_test: np.array) -> float:\n",
    "    y_pred_tag = torch.round(torch.sigmoid(y_pred))\n",
    "\n",
    "    correct_results_sum = (y_pred_tag == y_test).sum().float()\n",
    "    acc = correct_results_sum/y_test.shape[0]\n",
    "    acc = torch.round(acc * 100)\n",
    "    \n",
    "    return acc\n",
    "\n",
    "def torch_fit(nn, train_loader, test_loader): \n",
    "\n",
    "    model = nn\n",
    "    model.to(device)\n",
    "    criterion = torch.nn.BCEWithLogitsLoss()\n",
    "    optimizer = torch.optim.Adam(model.parameters(), lr=configura.learning_rate)\n",
    "\n",
    "    stats = {\"loss_train\":[], \"loss_valid\":[], \"accuracy_train\":[], \"accuracy_valid\":[]}\n",
    "\n",
    "    for e in range(1, configura.epochs+1):\n",
    "        epoch_loss, epoch_acc = 0, 0\n",
    "        valid_loss, valid_acc = 0, 0\n",
    "        st_tm = time.time()\n",
    "        model.train()\n",
    "        for x_batch, y_batch in train_loader:\n",
    "            x_batch, y_batch = x_batch.to(device), y_batch.to(device)\n",
    "            optimizer.zero_grad()\n",
    "            \n",
    "            y_pred = model(x_batch)\n",
    "            loss = criterion(y_pred, y_batch)\n",
    "            acc = binary_acc(y_pred, y_batch)\n",
    "            \n",
    "            loss.backward()\n",
    "            optimizer.step()\n",
    "            \n",
    "            epoch_loss += loss.item()\n",
    "            epoch_acc += acc.item()\n",
    "        model.eval()\n",
    "        for x_batch, y_batch in test_loader:\n",
    "            x_batch, y_batch = x_batch.to(device), y_batch.to(device)\n",
    "\n",
    "            y_pred = model(x_batch)\n",
    "            valid_loss = criterion(y_pred, y_batch)\n",
    "            valid_acc = binary_acc(y_pred, y_batch)\n",
    "\n",
    "            valid_loss += valid_loss.item()\n",
    "            valid_acc += valid_acc.item()\n",
    "        \n",
    "        stats[\"loss_train\"].append(epoch_loss)\n",
    "        stats[\"loss_valid\"].append(valid_loss)\n",
    "        stats[\"accuracy_train\"].append(epoch_acc)\n",
    "        stats[\"accuracy_valid\"].append(valid_loss)\n",
    "\n",
    "        print(\n",
    "            f\"Epoch {e+0:03}/{configura.epochs+0:03}: | Loss: {epoch_loss/len(train_loader):.5f} | Acc: {epoch_acc/len(train_loader):.3f}\"\\\n",
    "            f\"| Valid_Loss: {valid_loss/len(test_loader):.5f} | Valid_Acc: {valid_acc/len(test_loader):.3f} \"\\\n",
    "            f\"| Time: {time.time() - st_tm:.1f}\"\n",
    "        )\n",
    "\n",
    "    print(\"model fit completed\")\n",
    "\n",
    "    return model\n",
    "\n",
    "def get_preds(model, loader, name):\n",
    "\n",
    "    probs = []\n",
    "    for x in loader:\n",
    "        r = x[0].to(device)\n",
    "        with torch.no_grad():\n",
    "            probs.append(torch.sigmoid(model(r.to(device)).detach().cpu()).numpy())    \n",
    "    probs = [l.squeeze().tolist() for sl in probs for l in sl]\n",
    "    \n",
    "    return pd.Series(probs, name=name)\n",
    "\n",
    "def evaluate_torch_model(model, test_loader):\n",
    "\n",
    "    model.eval()\n",
    "\n",
    "    facts = [int(l) for sl in [v[1] for v in iter(test_loader)] for l in sl]\n",
    "    facts = pd.Series(facts, name=list(configura.target.keys())[0])\n",
    "    probs = pd.concat([get_preds(model, test_loader, 'r').reset_index(drop=True), facts.reset_index(drop=True)], axis=1)\n",
    "\n",
    "    n_bins, n_dec, border = configura.test_params\n",
    "    probs = probs.round({\"r\":n_dec})\n",
    "    probs['group'] = pd.cut(\n",
    "        probs.r, \n",
    "        n_bins, \n",
    "        right=True,\n",
    "    ).astype(str)    \n",
    "    \n",
    "    # get averages\n",
    "    probs_to_plot = pd.DataFrame()\n",
    "    probs_to_plot['r_mean'] = probs.groupby(by='group').mean()['r']\n",
    "    probs_to_plot['p'] = probs.groupby(by='group').mean()[list(configura.target.keys())]\n",
    "\n",
    "    # get quantity\n",
    "    probs_to_plot['n'] = probs.groupby(by='group').count()['r']\n",
    "\n",
    "    sns.set_theme(style='darkgrid')\n",
    "    sns.set(rc={'figure.figsize':(13, 9)})\n",
    "    g = sns.scatterplot(\n",
    "        x='r_mean', y='p', data=probs_to_plot,\n",
    "        color = 'darkblue',\n",
    "        size = probs_to_plot['n'].values\n",
    "    )\n",
    "    g.plot(np.linspace(0, border, 100), np.linspace(0, border, 100))\n",
    "    g.set(xlim=(0, border), ylim=(0, border))\n",
    "\n",
    "    resulting_metrics = {\n",
    "        \"mae\": round(sum(abs(probs_to_plot.p - probs_to_plot.r_mean))/len(probs_to_plot),5),\n",
    "        \"mse\": round(sum((probs_to_plot.p - probs_to_plot.r_mean) ** 2)/ len(probs_to_plot),5),\n",
    "        \"jensen_shannon\": jensenshannon(probs_to_plot.p , probs_to_plot.r_mean),\n",
    "        \"r_mean\": probs.r.mean(),\n",
    "        \"p_mean\": facts.mean(),\n",
    "        \"means_positive\": probs[probs[list(configura.target.keys())[0]]==1].r.mean(),\n",
    "        \"means_negative\": probs[probs[list(configura.target.keys())[0]]==0].r.mean(),\n",
    "        \"prediction_range\": probs.r.max()-probs.r.min(),\n",
    "        \"log_loss\": log_loss(facts, probs.r)\n",
    "    }\n",
    "\n",
    "    return probs, resulting_metrics\n",
    "\n",
    "\n",
    "class NnClickBanner(torch.nn.Module):\n",
    "    def __init__(self, ninput):\n",
    "        super(NnClickBanner, self).__init__()\n",
    "        self.layer_1 = torch.nn.Linear(ninput, 2048) \n",
    "        self.layer_2 = torch.nn.Linear(2048, 1024) \n",
    "        self.layer_3 = torch.nn.Linear(1024, 512)\n",
    "        self.layer_4 = torch.nn.Linear(512, 128)\n",
    "        self.layer_5 = torch.nn.Linear(128, 64)\n",
    "        self.layer_out = torch.nn.Linear(64, 1) \n",
    "        \n",
    "        self.relu = torch.nn.ReLU()\n",
    "        self.dropout = torch.nn.Dropout(p=0.2)\n",
    "        self.batchnorm1 = torch.nn.BatchNorm1d(2048)\n",
    "        self.batchnorm2 = torch.nn.BatchNorm1d(1024)\n",
    "        self.batchnorm3 = torch.nn.BatchNorm1d(512)\n",
    "        self.batchnorm4 = torch.nn.BatchNorm1d(128)\n",
    "        self.batchnorm5 = torch.nn.BatchNorm1d(64)\n",
    "        \n",
    "    def forward(self, inputs):\n",
    "        x = self.relu(self.layer_1(inputs))\n",
    "        x = self.batchnorm1(x)\n",
    "        x = self.relu(self.layer_2(x))\n",
    "        x = self.batchnorm2(x)\n",
    "        x = self.relu(self.layer_3(x))\n",
    "        x = self.batchnorm3(x)\n",
    "        x = self.relu(self.layer_4(x))\n",
    "        x = self.batchnorm4(x)\n",
    "        x = self.relu(self.layer_5(x))\n",
    "        x = self.batchnorm5(x)\n",
    "        x = self.dropout(x)\n",
    "        x = self.layer_out(x)\n",
    "\n",
    "        return x\n",
    "\n",
    "train_loader = get_loader(dftr, True)\n",
    "test_loader = get_loader(dfts)\n",
    "ninput = next(iter(train_loader))[0].shape[1]\n",
    "model = torch_fit(NnClickBanner(ninput), train_loader, test_loader)\n",
    "\n",
    "probabilities, resulting_metrics = evaluate_torch_model(\n",
    "    model, test_loader\n",
    ")"
   ]
  },
  {
   "cell_type": "code",
   "execution_count": 404,
   "metadata": {},
   "outputs": [
    {
     "data": {
      "image/png": "[encoded data removed]",
      "text/plain": [
       "<Figure size 936x648 with 1 Axes>"
      ]
     },
     "metadata": {},
     "output_type": "display_data"
    }
   ],
   "source": [
    "configura.test_params = [3000, 5, 0.005]\n",
    "probabilities, resulting_metrics = evaluate_torch_model(\n",
    "    model, test_loader\n",
    ")\n"
   ]
  },
  {
   "cell_type": "code",
   "execution_count": 405,
   "metadata": {},
   "outputs": [
    {
     "name": "stdout",
     "output_type": "stream",
     "text": [
      "creds.json  features_dictionary.json\n"
     ]
    }
   ],
   "source": [
    "!ls dicts"
   ]
  }
 ],
 "metadata": {
  "kernelspec": {
   "display_name": "Python 3 (ipykernel)",
   "language": "python",
   "name": "python3"
  },
  "language_info": {
   "codemirror_mode": {
    "name": "ipython",
    "version": 3
   },
   "file_extension": ".py",
   "mimetype": "text/x-python",
   "name": "python",
   "nbconvert_exporter": "python",
   "pygments_lexer": "ipython3",
   "version": "3.10.5"
  },
  "orig_nbformat": 4
 },
 "nbformat": 4,
 "nbformat_minor": 2
}
